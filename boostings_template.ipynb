{
 "cells": [
  {
   "cell_type": "markdown",
   "metadata": {
    "id": "xcAIjkpfJgAT"
   },
   "source": [
    "# 1️⃣ **Описание шаблона для решения задачи.**\n",
    "\n",
    "**Задача**: обучить несколько бустингов на 3-х фолдах, выбрать лучшие, усреднить предсказания.\n",
    "\n",
    "**Модели, которые будем обучать:**\n",
    "- `CatBoostRegressor`\n",
    "- `LightGBMRegressor (goss)`\n",
    "- `XGBoostRegressor (dart)`\n",
    "\n",
    "\n",
    "✅ Будут выполнены:\n",
    "- все дополнительные условия\n",
    "- возможности фреймворков (загрузка датасетов с помощью соответствующих классов, правильная подготовка категориальных признаков, early_stopping, многопоточность)\n",
    "- подбор гиперпараметров для каждой модели\n",
    "\n",
    "👀 При желании, рекомендуется проделать следующее:\n",
    "- Провести EDA (Exploratory Data Analysis) и сделать выводы на основе графики\n",
    "- Провести Feature Selection\n",
    "- Провести Object Selection\n",
    "- Использовать scheduler или custom callbacks\n",
    "- Обучить дополнительные модели\n",
    "\n",
    "\n",
    "❗️❗️❗️ **P.S.**\n",
    "- Данный ноутбук - далеко не единственное верное решение, воспринимайте его как помощник для вашего собственного решения или чтобы побороть страх белого листа :)\n",
    "\n",
    "- При полном заполнении ноутбука можно получить максимум 9 баллов из 10, так как из дополнительных баллов - только балл за подбор гиперпараметров.\n",
    "\n",
    "- При любых найденных ошибках/опечатках/непонятных моментов в коде, пишите в [чат курса](https://stepik.org/lesson/681941/step/6?unit=680724)"
   ]
  },
  {
   "cell_type": "markdown",
   "metadata": {
    "id": "Jd69gcnIKuqq"
   },
   "source": [
    "# 2️⃣ **Подключение необходимых библиотек и загрузка данных.**"
   ]
  },
  {
   "cell_type": "code",
   "execution_count": null,
   "metadata": {
    "id": "R8K6kvfHK442"
   },
   "outputs": [],
   "source": [
    "!pip install catboost lightgbm xgboost -q"
   ]
  },
  {
   "cell_type": "code",
   "execution_count": 1,
   "metadata": {
    "id": "9-gwHQUZKzQ1"
   },
   "outputs": [],
   "source": [
    "import numpy as np\n",
    "import pandas as pd\n",
    "\n",
    "from sklearn.model_selection import KFold, RandomizedSearchCV\n",
    "from sklearn.metrics import mean_squared_error\n",
    "from sklearn.preprocessing import LabelEncoder\n",
    "\n",
    "from catboost import CatBoostRegressor, Pool\n",
    "\n",
    "import lightgbm as lgb\n",
    "from lightgbm import Dataset, LGBMRegressor\n",
    "\n",
    "import xgboost as xgb\n",
    "from xgboost import XGBRegressor\n",
    "\n",
    "import warnings\n",
    "warnings.filterwarnings('ignore')"
   ]
  },
  {
   "cell_type": "code",
   "execution_count": 2,
   "metadata": {
    "id": "vPIRk3-kK7CF"
   },
   "outputs": [],
   "source": [
    "train = pd.read_csv('https://raw.githubusercontent.com/a-milenkin/Competitive_Data_Science/main/data/quickstart_train.csv')\n",
    "test = pd.read_csv('https://raw.githubusercontent.com/a-milenkin/Competitive_Data_Science/main/data/quickstart_test.csv')"
   ]
  },
  {
   "cell_type": "code",
   "execution_count": 3,
   "metadata": {
    "id": "Tg2-UN6fK-QJ"
   },
   "outputs": [],
   "source": [
    "RANDOM_STATE = 42"
   ]
  },
  {
   "cell_type": "code",
   "execution_count": 4,
   "metadata": {
    "id": "eUiOUxQXLjj2"
   },
   "outputs": [],
   "source": [
    "results = [] # Здесь будем хранить информацию по каждой модели"
   ]
  },
  {
   "cell_type": "markdown",
   "metadata": {
    "id": "bcz6wiDEMBHu"
   },
   "source": [
    "# 3️⃣ **Определим вспомогательные функции.**"
   ]
  },
  {
   "cell_type": "code",
   "execution_count": null,
   "metadata": {
    "id": "fqAVKKYLMHph"
   },
   "outputs": [],
   "source": [
    "def train_model(algorithm,\n",
    "                X,\n",
    "                y,\n",
    "                early_stopping_rounds,\n",
    "                init_params=None,\n",
    "                cat_features=None,\n",
    "                random_seed=2023\n",
    "    ):\n",
    "    scores = []\n",
    "    models = []\n",
    "\n",
    "    kf = KFold(n_splits=3, shuffle=True, random_state=random_seed)\n",
    "\n",
    "    print(f\"========= TRAINING {algorithm.__name__} =========\")\n",
    "\n",
    "    for num_fold, (train_index, val_index) in enumerate(kf.split(X)):\n",
    "        X_train, X_eval = X[train_index], X[val_index]\n",
    "        y_train, y_eval = y[tra]\n",
    "\n",
    "        if init_params is not None:\n",
    "            model = algorithm(**init_params)\n",
    "        else:\n",
    "            model = algorithm()\n",
    "\n",
    "        if algorithm.__name__ == 'CatBoostRegressor':\n",
    "            # Используйте соответствующий класс\n",
    "            train_dataset = # YOUR CODE\n",
    "            eval_dataset = # YOUR CODE\n",
    "\n",
    "            model.fit(train_dataset,\n",
    "                      eval_set=eval_dataset,\n",
    "                      verbose=0,\n",
    "                      early_stopping_rounds=early_stopping_rounds)\n",
    "\n",
    "        elif algorithm.__name__ == 'LGBMRegressor':\n",
    "            # Используйте соответствующий класс\n",
    "            train_dataset = # YOUR CODE\n",
    "            eval_dataset = # YOUR CODE\n",
    "\n",
    "            model = lgb.train(params=init_params,\n",
    "                              train_set=train_dataset,\n",
    "                              valid_sets=(eval_dataset),\n",
    "                              categorical_feature=cat_features,\n",
    "                              verbose_eval=False)\n",
    "\n",
    "        elif algorithm.__name__ == 'XGBRegressor':\n",
    "            # Используйте соответствующий класс\n",
    "            train_dataset = xgb.DMatrix(X_train, y_train)\n",
    "            eval_dataset = xgb.DMatrix(X_eval, y_eval)\n",
    "\n",
    "            model = xgb.train(params=init_params,\n",
    "                              dtrain=train_dataset,\n",
    "                              evals=[(train_dataset, 'dtrain'), (eval_dataset, 'dtest')],\n",
    "                              verbose_eval=False,\n",
    "                              early_stopping_rounds=early_stopping_rounds)\n",
    "\n",
    "            X_eval = eval_dataset\n",
    "\n",
    "        # Сделайте предсказание на X_eval и посчитайте RMSE\n",
    "        y_pred = # YOUR CODE\n",
    "        score = # YOUR CODE\n",
    "\n",
    "        models.append(model)\n",
    "        scores.append(score)\n",
    "\n",
    "        print(f'FOLD {num_fold}: SCORE {score}')\n",
    "\n",
    "    mean_kfold_score = np.mean(scores, dtype=\"float16\") -  np.std(scores, dtype=\"float16\")\n",
    "    print(\"\\nMEAN RMSE SCORE\", mean_kfold_score)\n",
    "\n",
    "    # Выберите модель с наименьшим значением скора\n",
    "    best_model = # YOUR CODE\n",
    "\n",
    "    return mean_kfold_score, best_model"
   ]
  },
  {
   "cell_type": "code",
   "execution_count": null,
   "metadata": {
    "id": "e-MKlTnfM6MA"
   },
   "outputs": [],
   "source": [
    "def tuning_hyperparams(algorithm,\n",
    "                       X,\n",
    "                       y,\n",
    "                       init_params,\n",
    "                       fit_params,\n",
    "                       grid_params,\n",
    "                       n_iter,\n",
    "                       cv=3,\n",
    "                       random_state=2023,\n",
    "    ):\n",
    "\n",
    "    estimator = algorithm(**init_params)\n",
    "\n",
    "    # Можно использоавть GridSearchCV\n",
    "    model = RandomizedSearchCV(estimator=estimator,\n",
    "                               param_distributions=grid_params,\n",
    "                               n_iter=n_iter,\n",
    "                               cv=cv,\n",
    "                               scoring='neg_root_mean_squared_error',\n",
    "                               n_jobs=-1,\n",
    "                               verbose=0,\n",
    "                               random_state=random_state\n",
    "    )\n",
    "\n",
    "    model.fit(X, y, **fit_params)\n",
    "\n",
    "    return model.best_params_ | init_params"
   ]
  },
  {
   "cell_type": "markdown",
   "metadata": {
    "id": "1a6FylJCLU7h"
   },
   "source": [
    "# 4️⃣ **Группируем признаки, отбираем категориальные, выделяем датасет для обучения.**"
   ]
  },
  {
   "cell_type": "code",
   "execution_count": null,
   "metadata": {
    "id": "onk3dKxWLeA4"
   },
   "outputs": [],
   "source": [
    "cat_features = [...]\n",
    "targets = [...]\n",
    "features2drop = [...]\n",
    "\n",
    "filtered_features = [...]\n",
    "num_features = [...]\n",
    "\n",
    "\n",
    "print(\"cat_features\", cat_features)\n",
    "print(\"num_features\", num_features)\n",
    "print(\"targets\", targets)"
   ]
  },
  {
   "cell_type": "code",
   "execution_count": null,
   "metadata": {
    "id": "xQscXB71LyD3"
   },
   "outputs": [],
   "source": [
    "X = train[filtered_features].drop(targets, axis=1, errors=\"ignore\")\n",
    "y = train[\"target_reg\"]"
   ]
  },
  {
   "cell_type": "markdown",
   "metadata": {
    "id": "lnhblPO4NLtH"
   },
   "source": [
    "# 5️⃣ **CatBoostRegressor.**\n",
    "\n"
   ]
  },
  {
   "cell_type": "markdown",
   "metadata": {
    "id": "qXCeIM5PNQL8"
   },
   "source": [
    "## **Обучение модели.**"
   ]
  },
  {
   "cell_type": "code",
   "execution_count": null,
   "metadata": {
    "id": "WScOQ_MONWFp"
   },
   "outputs": [],
   "source": [
    "cb_init_params = {\n",
    "    'loss_function': ...,\n",
    "    'eval_metric': ...,\n",
    "    'thread_count': -1,\n",
    "    'task_type': 'CPU',\n",
    "    'random_seed': RANDOM_STATE\n",
    "}\n",
    "\n",
    "cb_score, cb_model = train_model(\n",
    "    algorithm=CatBoostRegressor,\n",
    "    X=X, y=y,\n",
    "    init_params=cb_init_params,\n",
    "    early_stopping_rounds=...,\n",
    "    cat_features=cat_features,\n",
    "    random_seed=RANDOM_STATE\n",
    ")"
   ]
  },
  {
   "cell_type": "markdown",
   "metadata": {
    "id": "TufsUWJjRJTD"
   },
   "source": [
    "Сделаем предсказание для тестовой части и проверим скор на [лидерборде](https://stepik.org/lesson/779920/step/5?unit=782494)"
   ]
  },
  {
   "cell_type": "code",
   "execution_count": null,
   "metadata": {
    "id": "oZ_LG072RTxN"
   },
   "outputs": [],
   "source": [
    "cb_test_pred = ... # YOUR CODE\n",
    "\n",
    "pd.DataFrame({'car_id': test['car_id'], 'target_reg': cb_test_pred}).to_csv('cb_pred.csv', index=False)"
   ]
  },
  {
   "cell_type": "code",
   "execution_count": 5,
   "metadata": {
    "id": "oXIWK645Nt0M"
   },
   "outputs": [
    {
     "ename": "NameError",
     "evalue": "name 'cb_score' is not defined",
     "output_type": "error",
     "traceback": [
      "\u001b[0;31m---------------------------------------------------------------------------\u001b[0m",
      "\u001b[0;31mNameError\u001b[0m                                 Traceback (most recent call last)",
      "Cell \u001b[0;32mIn[5], line 4\u001b[0m\n\u001b[1;32m      1\u001b[0m results\u001b[38;5;241m.\u001b[39mappend({\n\u001b[1;32m      2\u001b[0m     \u001b[38;5;124m'\u001b[39m\u001b[38;5;124mmodel_name\u001b[39m\u001b[38;5;124m'\u001b[39m: \u001b[38;5;124m'\u001b[39m\u001b[38;5;124mCatBoostRegressor\u001b[39m\u001b[38;5;124m'\u001b[39m,\n\u001b[1;32m      3\u001b[0m     \u001b[38;5;124m'\u001b[39m\u001b[38;5;124mtuning\u001b[39m\u001b[38;5;124m'\u001b[39m: \u001b[38;5;28;01mFalse\u001b[39;00m,\n\u001b[0;32m----> 4\u001b[0m     \u001b[38;5;124m'\u001b[39m\u001b[38;5;124mkfold_score\u001b[39m\u001b[38;5;124m'\u001b[39m: \u001b[43mcb_score\u001b[49m,\n\u001b[1;32m      5\u001b[0m     \u001b[38;5;124m'\u001b[39m\u001b[38;5;124mleaderboard_score\u001b[39m\u001b[38;5;124m'\u001b[39m: \u001b[38;5;124m'\u001b[39m\u001b[38;5;124mRMSE=11.9\u001b[39m\u001b[38;5;124m'\u001b[39m,\n\u001b[1;32m      6\u001b[0m     \u001b[38;5;124m'\u001b[39m\u001b[38;5;124mmodel\u001b[39m\u001b[38;5;124m'\u001b[39m: cb_model\n\u001b[1;32m      7\u001b[0m })\n",
      "\u001b[0;31mNameError\u001b[0m: name 'cb_score' is not defined"
     ]
    }
   ],
   "source": [
    "results.append({\n",
    "    'model_name': 'CatBoostRegressor',\n",
    "    'tuning': False,\n",
    "    'kfold_score': cb_score,\n",
    "    'leaderboard_score': 'RMSE=11.9',\n",
    "    'model': cb_model\n",
    "})"
   ]
  },
  {
   "cell_type": "markdown",
   "metadata": {
    "id": "CcrCheXqRrZU"
   },
   "source": [
    "## **Подбор гиперпараметров и обучение модели с новыми параметрами.**"
   ]
  },
  {
   "cell_type": "code",
   "execution_count": null,
   "metadata": {
    "id": "lq73ekOdN9fw"
   },
   "outputs": [],
   "source": [
    "cb_fit_params = {\n",
    "    'cat_features': cat_features,\n",
    "    'verbose': 0,\n",
    "    'early_stopping_rounds': ...\n",
    "}\n",
    "\n",
    "\n",
    "# Параметры, которые будем перебирать\n",
    "cb_grid_params = {\n",
    "    'depth': ...,\n",
    "    'learning_rate': ...,\n",
    "    # YOUR PARAMS\n",
    "}\n",
    "\n",
    "\n",
    "catboost_params_after_tuning = tuning_hyperparams(algorithm=CatBoostRegressor,\n",
    "                                                  X=X, y=y,\n",
    "                                                  init_params=cb_init_params,\n",
    "                                                  fit_params=cb_fit_params,\n",
    "                                                  grid_params=cb_grid_params,\n",
    "                                                  n_iter=...,\n",
    "                                                  cv=...,\n",
    "                                                  random_state=RANDOM_STATE\n",
    ")\n",
    "\n",
    "catboost_params_after_tuning"
   ]
  },
  {
   "cell_type": "code",
   "execution_count": null,
   "metadata": {
    "id": "V5IZgFRlR9if"
   },
   "outputs": [],
   "source": [
    "cb_tuning_score, cb_tuning_model = train_model(algorithm=CatBoostRegressor,\n",
    "                                               X=X, y=y,\n",
    "                                               early_stopping_rounds=...,\n",
    "                                               init_params=catboost_params_after_tuning,\n",
    "                                               cat_features=cat_features,\n",
    "                                               random_seed=RANDOM_STATE)"
   ]
  },
  {
   "cell_type": "markdown",
   "metadata": {
    "id": "I_PNFvpYSH9C"
   },
   "source": [
    "Сделаем предсказание для тестовой части и проверим скор на [лидерборде](https://stepik.org/lesson/779920/step/5?unit=782494)"
   ]
  },
  {
   "cell_type": "code",
   "execution_count": null,
   "metadata": {
    "id": "94G-JA6cSCYu"
   },
   "outputs": [],
   "source": [
    "tuning_cb_test_pred = # YOUR CODE\n",
    "\n",
    "pd.DataFrame({'car_id': test['car_id'], 'target_reg': tuning_cb_test_pred}).to_csv('tuning_cb_pred.csv', index=False)"
   ]
  },
  {
   "cell_type": "code",
   "execution_count": null,
   "metadata": {
    "id": "hexgAKeWSA8x"
   },
   "outputs": [],
   "source": [
    "results.append({\n",
    "    'model_name': 'CatBoostRegressor',\n",
    "    'tuning': True,\n",
    "    'mean_kfold_score': cb_tuning_score,\n",
    "    'leaderboard_score': ...,\n",
    "    'model': cb_tuning_model\n",
    "})"
   ]
  },
  {
   "cell_type": "markdown",
   "metadata": {
    "id": "BwSIh0ElSXe5"
   },
   "source": [
    "# 6️⃣ **LightGBMRegressor (goss).**"
   ]
  },
  {
   "cell_type": "markdown",
   "metadata": {
    "id": "CqDuym5uSjd5"
   },
   "source": [
    "## **Подготовка категориальных признаков.**"
   ]
  },
  {
   "cell_type": "markdown",
   "metadata": {
    "id": "u5z9tNMmSxxR"
   },
   "source": [
    "[Ссылка](https://github.com/a-milenkin/Competitive_Data_Science/blob/main/notebooks/4.2%20-%20LightGBM.ipynb), если забыли, как готовить категориальные признаки"
   ]
  },
  {
   "cell_type": "code",
   "execution_count": null,
   "metadata": {
    "id": "vXTavKTrSXF4"
   },
   "outputs": [],
   "source": [
    "X_lgb = X.copy()\n",
    "\n",
    "le = LabelEncoder()\n",
    "\n",
    "### YOUR CODE"
   ]
  },
  {
   "cell_type": "markdown",
   "metadata": {
    "id": "W63NYnc7Tejy"
   },
   "source": [
    "## **Обучение модели.**"
   ]
  },
  {
   "cell_type": "code",
   "execution_count": null,
   "metadata": {
    "id": "7ozfTucMTdM7"
   },
   "outputs": [],
   "source": [
    "lgb_init_params = {\n",
    "    'boosting_type': ...,\n",
    "    'n_jobs': -1,\n",
    "    'metric': ...,\n",
    "    'objective': ...,\n",
    "    'random_state': RANDOM_STATE,\n",
    "    'verbosity': -1,\n",
    "    'device': 'cpu',\n",
    "}\n",
    "\n",
    "\n",
    "lgb_score, lgb_model = train_model(\n",
    "    algorithm=LGBMRegressor,\n",
    "    X=X_lgb, y=y,\n",
    "    init_params=lgb_init_params,\n",
    "    early_stopping_rounds=...,\n",
    "    cat_features=cat_features,\n",
    "    random_seed=RANDOM_STATE\n",
    ")"
   ]
  },
  {
   "cell_type": "markdown",
   "metadata": {
    "id": "ZqEMTMx6Ttbe"
   },
   "source": [
    "Сделаем предсказание для тестовой части и проверим скор на [лидерборде](https://stepik.org/lesson/779920/step/5?unit=782494)"
   ]
  },
  {
   "cell_type": "code",
   "execution_count": null,
   "metadata": {
    "id": "pf1frOYfUE50"
   },
   "outputs": [],
   "source": [
    "lgb_test_pred = # YOUR CODE\n",
    "\n",
    "pd.DataFrame({'car_id': test['car_id'], 'target_reg': lgb_test_pred}).to_csv('lgb_pred.csv', index=False)"
   ]
  },
  {
   "cell_type": "code",
   "execution_count": null,
   "metadata": {
    "id": "ZDTHKxXaUK40"
   },
   "outputs": [],
   "source": [
    "results.append({\n",
    "    'model_name': 'LGBMRegressor (goss)',\n",
    "    'tuning': False,\n",
    "    'mean_kfold_score': lgb_score,\n",
    "    'leaderboard_score': ...,\n",
    "    'model': lgb_model\n",
    "})"
   ]
  },
  {
   "cell_type": "markdown",
   "metadata": {
    "id": "LIKGKDkDXZ5K"
   },
   "source": [
    "## **Подбор гиперпараметров и обучение модели с новыми параметрами**"
   ]
  },
  {
   "cell_type": "code",
   "execution_count": null,
   "metadata": {
    "id": "j0I5mwCdXYcv"
   },
   "outputs": [],
   "source": [
    "lgb_fit_params = {\n",
    "    'eval_metric': 'rmse',\n",
    "    'categorical_feature': cat_features\n",
    "}\n",
    "\n",
    "\n",
    "lgb_grid_params = {\n",
    "    'max_depth': [3, 5, 7, 10, -1],           \n",
    "    'min_data_in_leaf': [10, 20, 30, 50],     \n",
    "    'num_leaves': [20, 31, 40, 50],            \n",
    "    'learning_rate': [0.01, 0.05, 0.1, 0.2],   \n",
    "    'feature_fraction': [0.6, 0.8, 1.0],       \n",
    "    'bagging_fraction': [0.6, 0.8, 1.0],      \n",
    "    'bagging_freq': [0, 5, 10],               \n",
    "    'lambda_l1': [0.0, 0.1, 1.0],              \n",
    "    'lambda_l2': [0.0, 0.1, 1.0],              \n",
    "    'boosting_type': ['gbdt', 'dart'],         \n",
    "    'n_estimators': [100, 200, 500]            \n",
    "}\n",
    "\n",
    "\n",
    "lgb_params_after_tuning = tuning_hyperparams(algorithm=LGBMRegressor,\n",
    "                                             X=X_lgb, y=y,\n",
    "                                             init_params=lgb_init_params,\n",
    "                                             fit_params=lgb_fit_params,\n",
    "                                             grid_params=lgb_grid_params,\n",
    "                                             n_iter=...,\n",
    "                                             cv=...,\n",
    "                                             random_state=RANDOM_STATE\n",
    ")\n",
    "\n",
    "lgb_params_after_tuning"
   ]
  },
  {
   "cell_type": "code",
   "execution_count": null,
   "metadata": {
    "id": "jne4XIAiXvaw"
   },
   "outputs": [],
   "source": [
    "lgb_tuning_score, lgb_tuning_model = train_model(\n",
    "    algorithm=LGBMRegressor,\n",
    "    X=X_lgb, y=y,\n",
    "    init_params=lgb_params_after_tuning,\n",
    "    early_stopping_rounds=...,\n",
    "    cat_features=cat_features,\n",
    "    random_seed=RANDOM_STATE\n",
    ")"
   ]
  },
  {
   "cell_type": "markdown",
   "metadata": {
    "id": "iB1gg4joX3IO"
   },
   "source": [
    "Сделаем предсказание для тестовой части и проверим скор на [лидерборде](https://stepik.org/lesson/779920/step/5?unit=782494)"
   ]
  },
  {
   "cell_type": "code",
   "execution_count": null,
   "metadata": {
    "id": "djILQED2X2DW"
   },
   "outputs": [],
   "source": [
    "results.append({\n",
    "    'model_name': 'LGBMRegressor (goss)',\n",
    "    'tuning': True,\n",
    "    'mean_kfold_score': lgb_tuning_score,\n",
    "    'leaderboard_score': ...,\n",
    "    'model': lgb_tuning_model\n",
    "})"
   ]
  },
  {
   "cell_type": "markdown",
   "metadata": {
    "id": "WnqbWGbiYGBd"
   },
   "source": [
    "# 7️⃣ **XGBoostRegressor (dart).**"
   ]
  },
  {
   "cell_type": "markdown",
   "metadata": {
    "id": "oRBiMOpIYTli"
   },
   "source": [
    "## **Подготовка категориальных признаков.**"
   ]
  },
  {
   "cell_type": "markdown",
   "metadata": {
    "id": "P3MWWfnhYYTH"
   },
   "source": [
    "[Ссылка](https://github.com/a-milenkin/Competitive_Data_Science/blob/main/notebooks/4.3%20-%20XGBoost.ipynb), если забыли, как готовить категориальные признаки"
   ]
  },
  {
   "cell_type": "code",
   "execution_count": null,
   "metadata": {
    "id": "yeqBQJt6YFYk"
   },
   "outputs": [],
   "source": [
    "X_xgb = X.copy()\n",
    "\n",
    "# YOUR CODE"
   ]
  },
  {
   "cell_type": "markdown",
   "metadata": {
    "id": "q1Xp96DnYjsm"
   },
   "source": [
    "## **Обучение модели.**"
   ]
  },
  {
   "cell_type": "code",
   "execution_count": 1,
   "metadata": {
    "id": "Pj6BTBUTYiG6"
   },
   "outputs": [
    {
     "ename": "NameError",
     "evalue": "name 'RANDOM_STATE' is not defined",
     "output_type": "error",
     "traceback": [
      "\u001b[0;31m---------------------------------------------------------------------------\u001b[0m",
      "\u001b[0;31mNameError\u001b[0m                                 Traceback (most recent call last)",
      "Cell \u001b[0;32mIn[1], line 6\u001b[0m\n\u001b[1;32m      1\u001b[0m xgb_init_params \u001b[38;5;241m=\u001b[39m {\n\u001b[1;32m      2\u001b[0m     \u001b[38;5;124m'\u001b[39m\u001b[38;5;124menable_categorical\u001b[39m\u001b[38;5;124m'\u001b[39m: \u001b[38;5;28;01mTrue\u001b[39;00m,          \n\u001b[1;32m      3\u001b[0m     \u001b[38;5;124m'\u001b[39m\u001b[38;5;124mbooster\u001b[39m\u001b[38;5;124m'\u001b[39m: \u001b[38;5;124m'\u001b[39m\u001b[38;5;124mdart\u001b[39m\u001b[38;5;124m'\u001b[39m,                   \n\u001b[1;32m      4\u001b[0m     \u001b[38;5;124m'\u001b[39m\u001b[38;5;124mobjective\u001b[39m\u001b[38;5;124m'\u001b[39m: \u001b[38;5;124m'\u001b[39m\u001b[38;5;124mreg:squarederror\u001b[39m\u001b[38;5;124m'\u001b[39m,     \n\u001b[1;32m      5\u001b[0m     \u001b[38;5;124m'\u001b[39m\u001b[38;5;124meval_metric\u001b[39m\u001b[38;5;124m'\u001b[39m: \u001b[38;5;124m'\u001b[39m\u001b[38;5;124mrmse\u001b[39m\u001b[38;5;124m'\u001b[39m,               \n\u001b[0;32m----> 6\u001b[0m     \u001b[38;5;124m'\u001b[39m\u001b[38;5;124mrandom_state\u001b[39m\u001b[38;5;124m'\u001b[39m: \u001b[43mRANDOM_STATE\u001b[49m,        \n\u001b[1;32m      7\u001b[0m     \u001b[38;5;124m'\u001b[39m\u001b[38;5;124mn_jobs\u001b[39m\u001b[38;5;124m'\u001b[39m: \u001b[38;5;241m-\u001b[39m\u001b[38;5;241m1\u001b[39m,                        \n\u001b[1;32m      8\u001b[0m     \u001b[38;5;124m'\u001b[39m\u001b[38;5;124mverbosity\u001b[39m\u001b[38;5;124m'\u001b[39m: \u001b[38;5;241m0\u001b[39m,                      \n\u001b[1;32m      9\u001b[0m \n\u001b[1;32m     10\u001b[0m     \n\u001b[1;32m     11\u001b[0m     \u001b[38;5;124m'\u001b[39m\u001b[38;5;124mrate_drop\u001b[39m\u001b[38;5;124m'\u001b[39m: \u001b[38;5;241m0.1\u001b[39m,                   \n\u001b[1;32m     12\u001b[0m     \u001b[38;5;124m'\u001b[39m\u001b[38;5;124mskip_drop\u001b[39m\u001b[38;5;124m'\u001b[39m: \u001b[38;5;241m0.5\u001b[39m,                    \n\u001b[1;32m     13\u001b[0m }\n\u001b[1;32m     16\u001b[0m xgb_score, xgb_model \u001b[38;5;241m=\u001b[39m train_model(\n\u001b[1;32m     17\u001b[0m     algorithm\u001b[38;5;241m=\u001b[39mXGBRegressor,\n\u001b[1;32m     18\u001b[0m     X\u001b[38;5;241m=\u001b[39mX_xgb, y\u001b[38;5;241m=\u001b[39my,\n\u001b[0;32m   (...)\u001b[0m\n\u001b[1;32m     22\u001b[0m     random_seed\u001b[38;5;241m=\u001b[39mRANDOM_STATE\n\u001b[1;32m     23\u001b[0m )\n",
      "\u001b[0;31mNameError\u001b[0m: name 'RANDOM_STATE' is not defined"
     ]
    }
   ],
   "source": [
    "xgb_init_params = {\n",
    "    'enable_categorical': True,          \n",
    "    'booster': 'dart',                   \n",
    "    'objective': 'reg:squarederror',     \n",
    "    'eval_metric': 'rmse',               \n",
    "    'random_state': RANDOM_STATE,        \n",
    "    'n_jobs': -1,                        \n",
    "    'verbosity': 0,                      \n",
    "\n",
    "    \n",
    "    'rate_drop': 0.1,                   \n",
    "    'skip_drop': 0.5,                    \n",
    "}\n",
    "\n",
    "\n",
    "xgb_score, xgb_model = train_model(\n",
    "    algorithm=XGBRegressor,\n",
    "    X=X_xgb, y=y,\n",
    "    init_params=xgb_init_params,\n",
    "    early_stopping_rounds=50,\n",
    "    cat_features=cat_features,\n",
    "    random_seed=RANDOM_STATE\n",
    ")"
   ]
  },
  {
   "cell_type": "markdown",
   "metadata": {
    "id": "tyOQEpXNZHEL"
   },
   "source": [
    "Сделаем предсказание для тестовой части и проверим скор на [лидерборде](https://stepik.org/lesson/779920/step/5?unit=782494)"
   ]
  },
  {
   "cell_type": "code",
   "execution_count": null,
   "metadata": {
    "id": "gZ8FrkifZWsX"
   },
   "outputs": [],
   "source": [
    "xgb_test_pred = ... # YOUR CODE\n",
    "\n",
    "pd.DataFrame({'car_id': test['car_id'], 'target_reg': xgb_test_pred}).to_csv('xgb_pred.csv', index=False)"
   ]
  },
  {
   "cell_type": "code",
   "execution_count": null,
   "metadata": {
    "id": "9X7ogmfDZKss"
   },
   "outputs": [],
   "source": [
    "results.append({\n",
    "    'model_name': 'XGBRegressor (dart)',\n",
    "    'tuning': False,\n",
    "    'mean_kfold_score': xgb_score,\n",
    "    'leaderboard_score': 'RMSE 12.2',\n",
    "    'model': xgb_model\n",
    "})"
   ]
  },
  {
   "cell_type": "markdown",
   "metadata": {
    "id": "dWRwaqjmZ1U5"
   },
   "source": [
    "## **Подбор гиперпараметров и обучение модели с новыми параметрами**"
   ]
  },
  {
   "cell_type": "code",
   "execution_count": null,
   "metadata": {
    "id": "7iVV9rKkZwNV"
   },
   "outputs": [],
   "source": [
    "xgb_grid_params = {\n",
    "    'max_depth': [3, 5, 7, 10],            # Глубина дерева\n",
    "    'max_leaves': [0, 31, 50, 100],        # Максимальное количество листьев\n",
    "    'learning_rate': [0.01, 0.05, 0.1],    # Темп обучения\n",
    "    'n_estimators': [100, 200, 300],       # Количество деревьев\n",
    "    'subsample': [0.8, 0.9, 1.0],          # Доля выборки для каждого дерева\n",
    "    'colsample_bytree': [0.6, 0.8, 1.0],   # Доля признаков для каждого дерева\n",
    "}\n",
    "\n",
    "\n",
    "xgb_fit_params = {\n",
    "    'verbose': False\n",
    "}\n",
    "\n",
    "\n",
    "xgb_params_after_tuning = tuning_hyperparams(algorithm=XGBRegressor,\n",
    "                                             X=X_xgb, y=y,\n",
    "                                             init_params=xgb_init_params,\n",
    "                                             fit_params=xgb_fit_params,\n",
    "                                             grid_params=xgb_grid_params,\n",
    "                                             n_iter=...,\n",
    "                                             cv=...,\n",
    "                                             random_state=RANDOM_STATE\n",
    ")\n",
    "\n",
    "xgb_params_after_tuning"
   ]
  },
  {
   "cell_type": "code",
   "execution_count": null,
   "metadata": {
    "id": "b-L4idkFaJzV"
   },
   "outputs": [],
   "source": [
    "xgb_tuning_score, xgb_tuning_model = train_model(\n",
    "    algorithm=XGBRegressor,\n",
    "    X=X_xgb, y=y,\n",
    "    init_params=xgb_params_after_tuning,\n",
    "    early_stopping_rounds=...,\n",
    "    cat_features=cat_features,\n",
    "    random_seed=RANDOM_STATE\n",
    ")"
   ]
  },
  {
   "cell_type": "code",
   "execution_count": null,
   "metadata": {
    "id": "EsFq9Hx4aMcl"
   },
   "outputs": [],
   "source": [
    "tuning_xgb_test_pred = ... # YOUR CODE\n",
    "\n",
    "pd.DataFrame({'car_id': test['car_id'], 'target_reg': tuning_xgb_test_pred}).to_csv('tuning_xgb_pred.csv', index=False)"
   ]
  },
  {
   "cell_type": "code",
   "execution_count": null,
   "metadata": {
    "id": "4nkbPZIkab9I"
   },
   "outputs": [],
   "source": [
    "results.append({\n",
    "    'model_name': 'XGBRegressor (dart)',\n",
    "    'tuning': True,\n",
    "    'mean_kfold_score': xgb_tuning_score,\n",
    "    'leaderboard_score': ...,\n",
    "    'model': xgb_tuning_model\n",
    "})"
   ]
  },
  {
   "cell_type": "markdown",
   "metadata": {
    "id": "YwiwIYz6fAjl"
   },
   "source": [
    "# 8️⃣ **Финальное предсказание и сохранение лучших моделей**"
   ]
  },
  {
   "cell_type": "code",
   "execution_count": null,
   "metadata": {
    "id": "QuuVUeQhfiix"
   },
   "outputs": [],
   "source": [
    "best_cb_model = # YOUR CODE\n",
    "best_cb_model.save_model('best_cb_model.cbm')\n",
    "\n",
    "best_lgb_model = # YOUR CODE\n",
    "best_lgb_model.save_model('best_lgb_model.mod')\n",
    "\n",
    "\n",
    "best_xgb_model = # YOUR CODE\n",
    "best_xgb_model.save_model('best_xgb_model.json')"
   ]
  },
  {
   "cell_type": "code",
   "execution_count": null,
   "metadata": {
    "id": "5DFuWvp8gPVg"
   },
   "outputs": [],
   "source": [
    "final_cb_pred = # YOUR CODE\n",
    "final_lgb_pred = # YOUR CODE\n",
    "final_xgb_pred = # YOUR CODE\n",
    "\n",
    "final_pred = # YOUR CODE\n",
    "\n",
    "pd.DataFrame({'car_id': test['car_id'], 'target_reg': final_pred}).to_csv('final_submission.csv', index=False)"
   ]
  },
  {
   "cell_type": "markdown",
   "metadata": {
    "id": "rlLtFrs1cOh5"
   },
   "source": [
    "# 9️⃣ **Выводы.**\n"
   ]
  },
  {
   "cell_type": "code",
   "execution_count": null,
   "metadata": {
    "id": "VuZtBfxCfh5U"
   },
   "outputs": [],
   "source": [
    "results = pd.DataFrame(results)\n",
    "results"
   ]
  },
  {
   "cell_type": "markdown",
   "metadata": {
    "id": "CIs-RqwtcXRn"
   },
   "source": [
    "Примеры вопросов, на которые можно ответить при формулировании вывода:\n",
    "\n",
    "- Какая модель показала лучшее качество на валидации/лидерборде?\n",
    "- Помог ли тюнинг гиперпараметров?\n",
    "- Помог ли Feature Selection?\n",
    "- Помог ли Object Selection?\n",
    "- Что поняли благодаря построенным графикам?\n",
    "- Улучшилось ли качество на лидерборде после усреднения прогнозов моделей?\n",
    "- ...\n",
    "\n"
   ]
  }
 ],
 "metadata": {
  "colab": {
   "provenance": [],
   "toc_visible": true
  },
  "kernelspec": {
   "display_name": "Python (myenv)",
   "language": "python",
   "name": "myenv"
  },
  "language_info": {
   "codemirror_mode": {
    "name": "ipython",
    "version": 3
   },
   "file_extension": ".py",
   "mimetype": "text/x-python",
   "name": "python",
   "nbconvert_exporter": "python",
   "pygments_lexer": "ipython3",
   "version": "3.10.15"
  }
 },
 "nbformat": 4,
 "nbformat_minor": 0
}
